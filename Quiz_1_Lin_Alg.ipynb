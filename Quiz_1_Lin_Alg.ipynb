{
 "cells": [
  {
   "cell_type": "markdown",
   "metadata": {},
   "source": [
    "## Linear Algebra Quiz #1\n",
    "\n",
    "![title](./img/1_0.jpeg)\n",
    "\n",
    "We strongly suggest working with numpy :)"
   ]
  },
  {
   "cell_type": "code",
   "execution_count": 1,
   "metadata": {
    "ExecuteTime": {
     "end_time": "2020-12-15T17:26:18.414529Z",
     "start_time": "2020-12-15T17:26:18.277916Z"
    }
   },
   "outputs": [],
   "source": [
    "#Do your imports here\n",
    "import numpy as np\n",
    "import math"
   ]
  },
  {
   "cell_type": "markdown",
   "metadata": {},
   "source": [
    "![title](./img/1_1.png)"
   ]
  },
  {
   "cell_type": "code",
   "execution_count": 4,
   "metadata": {
    "ExecuteTime": {
     "end_time": "2020-12-15T17:27:41.204469Z",
     "start_time": "2020-12-15T17:27:38.300090Z"
    }
   },
   "outputs": [
    {
     "name": "stdout",
     "output_type": "stream",
     "text": [
      "1,2,3\n",
      "3.742\n"
     ]
    }
   ],
   "source": [
    "# type a function that given a 3_dimensional vector it is able to calculate its magnitude\n",
    "\n",
    "def magnitude_3(a,b,c):\n",
    "    return math.sqrt(a**2+b**2+c**2)\n",
    "\n",
    "# type a function that given a n_dimensional vector it is able to calculate its magnitude\n",
    "# if you want to try this from python (not jupyter notebook) https://docs.python.org/3/library/argparse.html would be a good addition\n",
    "# if you are doing this from a jupyter notebook only, you can try to promt the user for an input  \n",
    "\n",
    "#MANUALLY ENTER INPUT TO CHECK THE RESULT OF CELLS BELOW\n",
    "def magnitude_complete():\n",
    "    sq_sum=0\n",
    "    value=input()\n",
    "    a=list(value)\n",
    "    inp=[i for i in a if i!=\",\"]\n",
    "    for i in inp:\n",
    "        sq_sum+=(int(i))**2\n",
    "        res=math.sqrt(sq_sum)\n",
    "    print(f\"{res:.3f}\")  \n",
    "magnitude_complete()"
   ]
  },
  {
   "cell_type": "markdown",
   "metadata": {},
   "source": [
    "uncomment the following line when you are ready to test"
   ]
  },
  {
   "cell_type": "code",
   "execution_count": 19,
   "metadata": {
    "ExecuteTime": {
     "end_time": "2020-12-14T13:43:03.031554Z",
     "start_time": "2020-12-14T13:43:03.027649Z"
    }
   },
   "outputs": [],
   "source": [
    "#magnitude_complete(1) == 1.0\n",
    "#magnitude_complete(1,2) >= 2.236\n",
    "#magnitude_complete(1,2,3) >= 3.741\n",
    "#magnitude_complete(1,2,3,4,5) >= 5.477\n",
    "#magnitude_complete(1,2,3,4,5) >= 7.416"
   ]
  },
  {
   "cell_type": "markdown",
   "metadata": {},
   "source": [
    "![title](./img/1_2.png)"
   ]
  },
  {
   "cell_type": "code",
   "execution_count": 6,
   "metadata": {
    "ExecuteTime": {
     "end_time": "2020-12-15T17:29:08.049003Z",
     "start_time": "2020-12-15T17:29:08.043172Z"
    }
   },
   "outputs": [
    {
     "data": {
      "text/plain": [
       "1.0"
      ]
     },
     "execution_count": 6,
     "metadata": {},
     "output_type": "execute_result"
    }
   ],
   "source": [
    "def magnitude_vectors(a, b):\n",
    "    sum=0\n",
    "    #checks that size is equal\n",
    "    if a.size==b.size:\n",
    "        for i in range(0,a.size):\n",
    "            sum+=(a[i]+b[i])**2\n",
    "        return math.sqrt(sum)\n",
    "    else:\n",
    "        return 'not equal'\n",
    "            \n",
    "    #returns the magnitude\n",
    "a=np.array([5,1])\n",
    "b=np.array([-4,-1])\n",
    "magnitude_vectors(a,b)"
   ]
  },
  {
   "cell_type": "code",
   "execution_count": null,
   "metadata": {
    "ExecuteTime": {
     "end_time": "2020-12-14T14:02:07.825750Z",
     "start_time": "2020-12-14T14:02:07.818943Z"
    }
   },
   "outputs": [],
   "source": []
  },
  {
   "cell_type": "markdown",
   "metadata": {},
   "source": [
    "![title](./img/1_3.png)"
   ]
  },
  {
   "cell_type": "code",
   "execution_count": 8,
   "metadata": {
    "ExecuteTime": {
     "end_time": "2020-12-15T17:32:20.866361Z",
     "start_time": "2020-12-15T17:32:20.857570Z"
    }
   },
   "outputs": [
    {
     "data": {
      "text/plain": [
       "(1.0, 0.0)"
      ]
     },
     "execution_count": 8,
     "metadata": {},
     "output_type": "execute_result"
    }
   ],
   "source": [
    "def direction_vectors(a, b):\n",
    "    \n",
    "    #checks that size is equal\n",
    "    if a.size==b.size:\n",
    "        x=b[0]+a[0]\n",
    "        y=b[1]+a[1]\n",
    "        return np.arctan(y/x)\n",
    "    else:\n",
    "        return 'not equal'\n",
    "    \n",
    "    \n",
    "    \n",
    "def magdir_vectors(a, b): \n",
    "    #checks that size is equal\n",
    "    sum=0\n",
    "    if a.size==b.size:\n",
    "        for i in range(0,a.size):\n",
    "            sum+=(a[i]+b[i])**2\n",
    "         # TAKING + AS IT IS GIVEN a+b IN THE COMMENT BELOW    \n",
    "        x=b[0]+a[0]\n",
    "        y=b[1]+a[1]   \n",
    "        return math.sqrt(sum),np.arctan(y/x) \n",
    "    else:\n",
    "        return \"not equal\"\n",
    "    \n",
    "a=np.array([5,1])\n",
    "b=np.array([-4,-1]) \n",
    "magdir_vectors(a, b)\n",
    "    \n",
    "    #returns the magnitude and direction in a nicely printed format \n",
    "    #\"The magnitude of a + b is X and the direction is Y\"\n",
    "    \n",
    "    \n",
    "    #returns the magnitude\n",
    "    \n",
    "# or if you want to do it all in one batch:\n"
   ]
  },
  {
   "cell_type": "markdown",
   "metadata": {},
   "source": [
    "![title](./img/1_4.png)\n",
    "- What is the magnitude of αx⃗? \n",
    "- If α>0, will the direction of the resulting vector change?\n",
    "- If α<0, will the direction of the resulting vector change?\n",
    "- If −1<α<1, will ∥αx⃗∥  increase, decrease or stay the same?"
   ]
  },
  {
   "cell_type": "code",
   "execution_count": null,
   "metadata": {},
   "outputs": [],
   "source": [
    "#If α>0, will the direction of the resulting vector change?\n",
    "#ANS:NO ONLY MAGNITUDE WILL CHANGE\n",
    "\n",
    "#If α<0, will the direction of the resulting vector change?\n",
    "#ANS: YES IT WILL BECOME OPPOSITE\n",
    "\n",
    "#If −1<α<1, will ∥αx⃗∥ increase, decrease or stay the same?\n",
    "#ANS: MAGNITUDE WILL BECOME LESS THAN ORIGINAL VALUE\n",
    "\n",
    "#def alpha_magnitude(alpha, b):\n",
    "    \n",
    "    \n",
    "    #returns the resulting magnitude, if the direction has changed and what has happened to the vector"
   ]
  }
 ],
 "metadata": {
  "kernelspec": {
   "display_name": "Python 3",
   "language": "python",
   "name": "python3"
  },
  "language_info": {
   "codemirror_mode": {
    "name": "ipython",
    "version": 3
   },
   "file_extension": ".py",
   "mimetype": "text/x-python",
   "name": "python",
   "nbconvert_exporter": "python",
   "pygments_lexer": "ipython3",
   "version": "3.8.5"
  }
 },
 "nbformat": 4,
 "nbformat_minor": 2
}
