{
 "cells": [
  {
   "cell_type": "markdown",
   "metadata": {},
   "source": [
    "## Linear Algebra Quiz #3\n",
    "\n",
    "![title](./img/3_0.jpeg)\n",
    "\n",
    "We strongly suggest working with numpy :)"
   ]
  },
  {
   "cell_type": "code",
   "execution_count": 1,
   "metadata": {
    "ExecuteTime": {
     "end_time": "2020-12-15T14:26:27.998246Z",
     "start_time": "2020-12-15T14:26:27.862470Z"
    }
   },
   "outputs": [],
   "source": [
    "#Do your imports here,\n",
    "import numpy as np"
   ]
  },
  {
   "cell_type": "markdown",
   "metadata": {},
   "source": [
    "![title](./img/3_2.png)\n",
    "![title](./img/3_3.png)\n",
    "Create a program that can output\n",
    "\n",
    "- What is the value of element c23​ of Matrix C where C=A x B ?\n",
    "- What is the value of element c23​ of Matrix C where C=B x A ?"
   ]
  },
  {
   "cell_type": "code",
   "execution_count": 9,
   "metadata": {
    "ExecuteTime": {
     "end_time": "2020-12-15T14:36:12.383699Z",
     "start_time": "2020-12-15T14:36:12.377815Z"
    }
   },
   "outputs": [
    {
     "name": "stdout",
     "output_type": "stream",
     "text": [
      "[[ 23.   18.    4. ]\n",
      " [ 22.  -16.5   5. ]\n",
      " [-71.    2.  -35. ]] 5.0\n",
      "[[-25.   17.   13. ]\n",
      " [ -1.    8.   16. ]\n",
      " [ 27.5  24.  -11.5]] 16.0\n"
     ]
    }
   ],
   "source": [
    "A=[[3,1,2],[-5,4,1],[0,3,-8]]\n",
    "B=[[0,5,-1],[3,2,-1],[10,0.5,4]]\n",
    "n_A=np.array(A)\n",
    "n_B=np.array(B)\n",
    "C1=np.dot(n_A,n_B)\n",
    "C2=np.dot(n_B,n_A)\n",
    "print(C1,C1[1][2])\n",
    "print(C2,C2[1][2])"
   ]
  },
  {
   "cell_type": "code",
   "execution_count": null,
   "metadata": {},
   "outputs": [],
   "source": [
    "# okay numpy is great but... how would you inverse a matrix by hand?\n",
    "\n",
    "def inverse_matrix(A):\n",
    "    return \"\""
   ]
  },
  {
   "cell_type": "markdown",
   "metadata": {},
   "source": [
    "![title](./img/3_1.png)\n",
    "Create a program that can output\n",
    "\n",
    "- What is the value of the ijth element if i = 2 and j=3?\n",
    "- What is the value of the ijth element if i = 3 and j=1?"
   ]
  },
  {
   "cell_type": "code",
   "execution_count": 19,
   "metadata": {
    "ExecuteTime": {
     "end_time": "2020-12-15T15:11:46.483836Z",
     "start_time": "2020-12-15T15:11:46.476029Z"
    }
   },
   "outputs": [],
   "source": [
    "A2=np.array([[3,0.6,4,-3],[-1.3,4,0,8.6],[7,0,-8,0.006]])\n",
    "B2=np.array([[3,-5.76,45,0],[2,-2,1.3,9],[9,0,0,0]])\n",
    "C2=np.array([[0,1009,-66.7849,90],[0,5,4,-0.07],[-7.7,0,0,0]])\n"
   ]
  },
  {
   "cell_type": "code",
   "execution_count": 21,
   "metadata": {
    "ExecuteTime": {
     "end_time": "2020-12-15T15:12:06.677526Z",
     "start_time": "2020-12-15T15:12:06.672620Z"
    }
   },
   "outputs": [
    {
     "name": "stdout",
     "output_type": "stream",
     "text": [
      "[[ 6.000000e+00 -1.014160e+03  1.157849e+02 -9.300000e+01]\n",
      " [ 7.000000e-01 -3.000000e+00 -2.700000e+00  1.767000e+01]\n",
      " [ 2.370000e+01  0.000000e+00 -8.000000e+00  6.000000e-03]] -2.7\n",
      "23.7\n"
     ]
    }
   ],
   "source": [
    "D=A2+B2-C2\n",
    "print(D,D[1][2])\n",
    "print(D[2][0])"
   ]
  },
  {
   "cell_type": "code",
   "execution_count": null,
   "metadata": {},
   "outputs": [],
   "source": [
    "# Just answer using code --> easy stuff!\n",
    "\n",
    "# Harder\n",
    "# Can you build a matrix solver that can do output the result given n matrices and a sequence of operations such as [add subtract multiply transpose?]\n",
    "#Some ideas on valid operations: Multiplication Addition Subtraction Inverstion Transposed. "
   ]
  },
  {
   "cell_type": "markdown",
   "metadata": {},
   "source": [
    "![title](./img/3_3.png)\n",
    "Create a program that can output\n",
    "- How many rows will C have?\n",
    "- How many columns will C have?\n",
    "- What will be the value of c13​?"
   ]
  },
  {
   "cell_type": "code",
   "execution_count": 31,
   "metadata": {
    "ExecuteTime": {
     "end_time": "2020-12-15T15:22:29.709795Z",
     "start_time": "2020-12-15T15:22:29.703924Z"
    }
   },
   "outputs": [
    {
     "name": "stdout",
     "output_type": "stream",
     "text": [
      "[-102.8  255.2  595.6]\n",
      "(3,)\n",
      "no. of rows=3,no. of columns=1,C13=595.6\n"
     ]
    }
   ],
   "source": [
    "\n",
    "A3=np.array([0.6,-15,2,5,98])\n",
    "B3=np.array([[2,2,-4],[9,-14,0],[13,-0.5,44],[1,9,4],[0,0,5]])\n",
    "C3=np.dot(A3,B3)\n",
    "print(C3)\n",
    "dim=np.shape(C3)\n",
    "print(dim)\n",
    "row=dim[0]\n",
    "col=1\n",
    "#col=dim[1]\n",
    "print(f\"no. of rows={row},no. of columns={col},C13={C3[2]}\")"
   ]
  }
 ],
 "metadata": {
  "kernelspec": {
   "display_name": "Python 3",
   "language": "python",
   "name": "python3"
  },
  "language_info": {
   "codemirror_mode": {
    "name": "ipython",
    "version": 3
   },
   "file_extension": ".py",
   "mimetype": "text/x-python",
   "name": "python",
   "nbconvert_exporter": "python",
   "pygments_lexer": "ipython3",
   "version": "3.8.5"
  }
 },
 "nbformat": 4,
 "nbformat_minor": 2
}
