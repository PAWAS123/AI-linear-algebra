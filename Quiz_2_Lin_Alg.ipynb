{
 "cells": [
  {
   "cell_type": "markdown",
   "metadata": {},
   "source": [
    "## Linear Algebra Quiz #2\n",
    "\n",
    "![title](./img/2_1.jpeg)\n",
    "\n",
    "We strongly suggest working with numpy :)"
   ]
  },
  {
   "cell_type": "code",
   "execution_count": 4,
   "metadata": {
    "ExecuteTime": {
     "end_time": "2020-12-15T15:05:05.064004Z",
     "start_time": "2020-12-15T15:05:04.920490Z"
    }
   },
   "outputs": [],
   "source": [
    "#Do your imports here\n",
    "import numpy as np"
   ]
  },
  {
   "cell_type": "markdown",
   "metadata": {},
   "source": [
    "![title](./img/2_2.png)\n",
    "- Which vectors below define a plane spanned by a linear combination?"
   ]
  },
  {
   "cell_type": "code",
   "execution_count": 5,
   "metadata": {
    "ExecuteTime": {
     "end_time": "2020-12-15T15:05:06.906084Z",
     "start_time": "2020-12-15T15:05:06.892420Z"
    }
   },
   "outputs": [
    {
     "data": {
      "text/plain": [
       "' True,coplanar vectors'"
      ]
     },
     "execution_count": 5,
     "metadata": {},
     "output_type": "execute_result"
    }
   ],
   "source": [
    "a = [1, 2, 3]\n",
    "b = [2, 2, 2]\n",
    "c = [8, 8, 8] \n",
    "def plane(a,b,c):\n",
    "    #returns false if the vectors do define a plane and returns which are those vectors if true\n",
    "    # Three vectors are coplanar if the scalar product is zero\n",
    "    new_a=np.array(a)\n",
    "    new_b=np.array(b)\n",
    "    new_c=np.array(c)\n",
    "    res=np.dot(new_a,np.cross(new_b,new_c))\n",
    "    if res==0:\n",
    "        return ' True,coplanar vectors'\n",
    "    else:\n",
    "        return 'False,not coplanar'\n",
    "\n",
    "# Harder exercise\n",
    "plane(a,b,c)"
   ]
  },
  {
   "cell_type": "markdown",
   "metadata": {},
   "source": [
    "![title](./img/2_3.png)\n",
    "- What is the solution for a and b?"
   ]
  },
  {
   "cell_type": "code",
   "execution_count": null,
   "metadata": {},
   "outputs": [],
   "source": [
    "# do you need a function for this? What is the most efficient way to solve it?\n",
    "#Answer:NO we do not need a function. There are infinite number of solutions as the 1st and 2 nd eqns are the same"
   ]
  },
  {
   "cell_type": "markdown",
   "metadata": {},
   "source": [
    "![title](./img/2_4.png)\n",
    "- What is the solution for a and b?"
   ]
  },
  {
   "cell_type": "code",
   "execution_count": null,
   "metadata": {},
   "outputs": [],
   "source": [
    "# Idem. Do you need a function for this? What is the most efficient way to solve it?\n",
    "# Answer: No.There is no solution to the equations as the equations do not agree with each other"
   ]
  }
 ],
 "metadata": {
  "kernelspec": {
   "display_name": "Python 3",
   "language": "python",
   "name": "python3"
  },
  "language_info": {
   "codemirror_mode": {
    "name": "ipython",
    "version": 3
   },
   "file_extension": ".py",
   "mimetype": "text/x-python",
   "name": "python",
   "nbconvert_exporter": "python",
   "pygments_lexer": "ipython3",
   "version": "3.8.5"
  }
 },
 "nbformat": 4,
 "nbformat_minor": 2
}
